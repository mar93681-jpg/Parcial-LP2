{
 "cells": [
  {
   "cell_type": "markdown",
   "id": "e8158102-d1d2-4977-9999-7e7623bb2b87",
   "metadata": {},
   "source": [
    "\n",
    "<table>\n",
    "  <tr>\n",
    "    <td style=\"padding-right: 20px;\">\n",
    "      <img src=\"https://upload.wikimedia.org/wikipedia/commons/a/a9/Unalm_logo.png\" width=\"115\" />\n",
    "    </td>\n",
    "    <td style=\"vertical-align: top; font-size: 20px; line-height: 1.0; background-color: #f0f0f0; padding: 10px;\">\n",
    "      <strong>Universidad Nacional Agraria La Molina</strong><br><br>\n",
    "      Facultad de Economía y Planificación<br><br>\n",
    "      Departamento de Estadística e Informática\n",
    "    </td>\n",
    "  </tr>\n",
    "</table>\n",
    "\n",
    "<h1 style=\"font-size: 30px; margin-top: 20px;\">Estadísticas cuantitativas</h1>\n",
    "\n",
    "**Profesora:** Vargas"
   ]
  },
  {
   "cell_type": "markdown",
   "id": "996dbc16-1439-457c-b87a-be77f08fc27d",
   "metadata": {},
   "source": [
    "## Clase base: "
   ]
  },
  {
   "cell_type": "code",
   "execution_count": 118,
   "id": "5c7b59aa-26d2-4b36-8210-20019f470a0f",
   "metadata": {},
   "outputs": [
    {
     "name": "stdout",
     "output_type": "stream",
     "text": [
      "Clase base EstadisticaBase creada correctamente\n"
     ]
    }
   ],
   "source": [
    "from abc import ABC, abstractmethod\n",
    "import math\n",
    "\n",
    "class EstadisticaBase(ABC):\n",
    "    \"\"\"\n",
    "    Clase abstracta base para análisis estadísticos\n",
    "    Define la interfaz común para todas las clases de estadísticas\n",
    "    \"\"\"\n",
    "    \n",
    "    def __init__(self, datos):\n",
    "        \"\"\"\n",
    "        Inicializa la clase con datos\n",
    "        \n",
    "        Args:\n",
    "            datos (list): Lista de valores\n",
    "        \"\"\"\n",
    "        if not isinstance(datos, (list, tuple)):\n",
    "            raise TypeError(\"Los datos deben estar en una lista o tupla.\")\n",
    "        \n",
    "        self.datos = list(datos)\n",
    "    \n",
    "    @abstractmethod\n",
    "    def promedio(self):\n",
    "        \"\"\"Calcula la medida de tendencia central apropiada\"\"\"\n",
    "        pass\n",
    "    \n",
    "    @abstractmethod\n",
    "    def minimo(self):\n",
    "        \"\"\"Devuelve el valor mínimo o equivalente\"\"\"\n",
    "        pass\n",
    "    \n",
    "    @abstractmethod\n",
    "    def maximo(self):\n",
    "        \"\"\"Devuelve el valor máximo o equivalente\"\"\"\n",
    "        pass\n",
    "    \n",
    "    @abstractmethod\n",
    "    def resumen(self):\n",
    "        \"\"\"Muestra un resumen general de los datos\"\"\"\n",
    "        pass\n",
    "    \n",
    "    def cantidad_datos(self):\n",
    "        \"\"\"Devuelve la cantidad total de datos\"\"\"\n",
    "        return len(self.datos)\n",
    "    \n",
    "    def tipo_datos(self):\n",
    "        \"\"\"Retorna el tipo de datos manejado por la clase\"\"\"\n",
    "        return self.__class__.__name__\n",
    "\n",
    "print(\"Clase base EstadisticaBase creada correctamente\")"
   ]
  },
  {
   "cell_type": "code",
   "execution_count": 79,
   "id": "55dfe69a-ad45-4dd1-8004-15718df09628",
   "metadata": {},
   "outputs": [],
   "source": [
    "##import math\n",
    "##from EstadisticaBase import EstadisticaBase"
   ]
  },
  {
   "cell_type": "code",
   "execution_count": 119,
   "id": "a102157a-dc9e-42c6-8581-09563e33f207",
   "metadata": {},
   "outputs": [],
   "source": [
    "class EstadisticaCuantitativa(EstadisticaBase):\n",
    "    \"\"\" Esta clase nos sirve para el análisis estadístico de datos cuantitativos (numéricos) \n",
    "    Hereda de EstadisticaBase y añade métodos específicos para datos numéricos\"\"\"\n",
    "    \n",
    "    def __init__(self, datos):\n",
    "        if not isinstance(datos, (list, tuple)):\n",
    "            raise TypeError(\"Los datos deben estar en una lista o tupla.\")\n",
    "        \n",
    "        for dato in datos:\n",
    "            if not isinstance(dato, (int, float)):\n",
    "                raise TypeError(f\"Todos los datos deben ser numéricos. Encontrado: {type(dato)}\")\n",
    "        \n",
    "        self.datos = list(datos)\n",
    "        self._datos_ordenados = None\n",
    "    \n",
    "    def _ordenar_datos(self):\n",
    "        if self._datos_ordenados is None:\n",
    "            self._datos_ordenados = sorted(self.datos)\n",
    "        return self._datos_ordenados"
   ]
  },
  {
   "cell_type": "markdown",
   "id": "ba752572-7c2d-4b4b-ab12-8430c1a1a096",
   "metadata": {},
   "source": [
    "### MÉTODOS ESTADÍSTICOS BÁSICOS"
   ]
  },
  {
   "cell_type": "markdown",
   "id": "79ee1234-c897-4f12-b893-33f412189586",
   "metadata": {},
   "source": [
    "1. **media**"
   ]
  },
  {
   "cell_type": "code",
   "execution_count": 103,
   "id": "3c7407ee-a7f9-4086-882e-2e789eb7edfc",
   "metadata": {},
   "outputs": [],
   "source": [
    "def media(self):\n",
    "        \"\"\"\n",
    "        Calcula la media aritmética\n",
    "        \n",
    "        Returns:\n",
    "            float: Media de los datos\n",
    "        \"\"\"\n",
    "        if not self.datos:\n",
    "            return None\n",
    "        return sum(self.datos) / len(self.datos)"
   ]
  },
  {
   "cell_type": "markdown",
   "id": "3c4a62c3-61ff-4b83-865f-5bc04e635ba0",
   "metadata": {},
   "source": [
    "2. **mediana**"
   ]
  },
  {
   "cell_type": "code",
   "execution_count": 104,
   "id": "676a6a53-72a0-4a7a-bced-2286ffabfc4c",
   "metadata": {},
   "outputs": [],
   "source": [
    "def mediana(self):\n",
    "        \"\"\"\n",
    "        Calcula la mediana\n",
    "        \n",
    "        Returns:\n",
    "            float: Mediana de los datos\n",
    "        \"\"\"\n",
    "        if not self.datos:\n",
    "            return None\n",
    "            \n",
    "        datos_ordenados = self._ordenar_datos()\n",
    "        n = len(datos_ordenados)\n",
    "        \n",
    "        if n % 2 == 1:\n",
    "            # Cantidad impar de datos\n",
    "            return datos_ordenados[n // 2]\n",
    "        else:\n",
    "            # Cantidad par de datos\n",
    "            return (datos_ordenados[n // 2 - 1] + datos_ordenados[n // 2]) / 2"
   ]
  },
  {
   "cell_type": "markdown",
   "id": "d6066a86-7723-4608-a0a8-f3169b9db300",
   "metadata": {},
   "source": [
    "3. **moda**"
   ]
  },
  {
   "cell_type": "code",
   "execution_count": 105,
   "id": "1f5fc3a4-1f88-4cfa-be8e-3bf99130c9b3",
   "metadata": {},
   "outputs": [],
   "source": [
    "def moda(self):\n",
    "        \"\"\"\n",
    "        Calcula la moda (puede haber múltiples modas)\n",
    "        \n",
    "        Returns:\n",
    "            list: Lista de modas\n",
    "        \"\"\"\n",
    "        if not self.datos:\n",
    "            return []\n",
    "            \n",
    "        frecuencias = {}\n",
    "        for dato in self.datos:\n",
    "            if dato in frecuencias:\n",
    "                frecuencias[dato] += 1\n",
    "            else:\n",
    "                frecuencias[dato] = 1\n",
    "        \n",
    "        if not frecuencias:\n",
    "            return []\n",
    "        \n",
    "        max_freq = max(frecuencias.values())\n",
    "        modas = [k for k, v in frecuencias.items() if v == max_freq]\n",
    "        \n",
    "        return modas"
   ]
  },
  {
   "cell_type": "markdown",
   "id": "2c4f68d2-10b6-4273-9351-2ba0ed11882a",
   "metadata": {},
   "source": [
    "## MÉTODOS DE DISPERSIÓN"
   ]
  },
  {
   "cell_type": "markdown",
   "id": "65568a2d-bce4-4848-886b-a7469c4e1ae6",
   "metadata": {},
   "source": [
    "1. **Varianza**"
   ]
  },
  {
   "cell_type": "code",
   "execution_count": 106,
   "id": "2da92136-f17a-4d82-984c-fc9c354232de",
   "metadata": {},
   "outputs": [],
   "source": [
    "def varianza(self, poblacional=True):\n",
    "        \"\"\"\n",
    "        Calcula la varianza\n",
    "        \n",
    "        Args:\n",
    "            poblacional (bool): True para varianza poblacional, False para muestral\n",
    "            \n",
    "        Returns:\n",
    "            float: Varianza de los datos\n",
    "        \"\"\"\n",
    "        if len(self.datos) < 2:\n",
    "            return None\n",
    "            \n",
    "        media_val = self.media()\n",
    "        n = len(self.datos)\n",
    "        \n",
    "        # Ajuste para varianza muestral (n-1)\n",
    "        divisor = n if poblacional else n - 1\n",
    "        \n",
    "        suma_cuadrados = sum((x - media_val) ** 2 for x in self.datos)\n",
    "        return suma_cuadrados / divisor"
   ]
  },
  {
   "cell_type": "markdown",
   "id": "942ece30-29a8-4cca-8538-cb2d9e1394b6",
   "metadata": {},
   "source": [
    "2. **desviacion_estandar**"
   ]
  },
  {
   "cell_type": "code",
   "execution_count": 107,
   "id": "65b406ca-d855-4a45-9d93-e4cbd3b6d04a",
   "metadata": {},
   "outputs": [],
   "source": [
    "def desviacion_estandar(self, poblacional=True):\n",
    "        \"\"\"\n",
    "        Calcula la desviación estándar\n",
    "        \n",
    "        Args:\n",
    "            poblacional (bool): True para desviación poblacional, False para muestral\n",
    "            \n",
    "        Returns:\n",
    "            float: Desviación estándar\n",
    "        \"\"\"\n",
    "        varianza_val = self.varianza(poblacional)\n",
    "        return math.sqrt(varianza_val) if varianza_val is not None else None"
   ]
  },
  {
   "cell_type": "markdown",
   "id": "9e394952-20b3-4383-84ca-9c2ef27dc5fa",
   "metadata": {},
   "source": [
    "3. **rango**"
   ]
  },
  {
   "cell_type": "code",
   "execution_count": 108,
   "id": "02fcca53-6f5d-4b88-b3e2-64f5067b9568",
   "metadata": {},
   "outputs": [],
   "source": [
    "def rango(self):\n",
    "        \"\"\"\n",
    "        Calcula el rango de los datos\n",
    "        \n",
    "        Returns:\n",
    "            float: Diferencia entre máximo y mínimo\n",
    "        \"\"\"\n",
    "        if not self.datos:\n",
    "            return None\n",
    "        return self.maximo() - self.minimo()"
   ]
  },
  {
   "cell_type": "markdown",
   "id": "81a63e4b-2e28-4a2e-aba6-304d9d6abbfa",
   "metadata": {},
   "source": [
    "4. **rango_intercuartilico**"
   ]
  },
  {
   "cell_type": "code",
   "execution_count": 109,
   "id": "53c979ec-86af-4d07-8d64-cbb74c940a70",
   "metadata": {},
   "outputs": [],
   "source": [
    "def rango_intercuartilico(self):\n",
    "        \"\"\"\n",
    "        Calcula el rango intercuartílico (IQR)\n",
    "        \n",
    "        Returns:\n",
    "            float: Diferencia entre Q3 y Q1\n",
    "        \"\"\"\n",
    "        q1 = self.percentil(25)\n",
    "        q3 = self.percentil(75)\n",
    "        return q3 - q1 if q1 is not None and q3 is not None else None\n",
    "    "
   ]
  },
  {
   "cell_type": "markdown",
   "id": "e527fa99-3e94-4e6f-ad95-241260ac4ef5",
   "metadata": {},
   "source": [
    "## MÉTODOS DE POSICIÓN"
   ]
  },
  {
   "cell_type": "markdown",
   "id": "680735f5-9763-4d98-bcff-42df45302780",
   "metadata": {},
   "source": [
    "5. **percentil**"
   ]
  },
  {
   "cell_type": "code",
   "execution_count": 110,
   "id": "dd25d88e-87bb-421b-903b-fde18c93eea2",
   "metadata": {},
   "outputs": [],
   "source": [
    "def percentil(self, percentil):\n",
    "        \"\"\"\n",
    "        Calcula el percentil especificado\n",
    "        \n",
    "        Args:\n",
    "            percentil (float): Percentil deseado (0-100)\n",
    "            \n",
    "        Returns:\n",
    "            float: Valor del percentil\n",
    "        \"\"\"\n",
    "        if not self.datos:\n",
    "            return None\n",
    "            \n",
    "        if percentil < 0 or percentil > 100:\n",
    "            raise ValueError(\"El percentil debe estar entre 0 y 100\")\n",
    "        \n",
    "        datos_ordenados = self._ordenar_datos()\n",
    "        n = len(datos_ordenados)\n",
    "        \n",
    "        # Método de interpolación lineal\n",
    "        pos = (percentil / 100) * (n - 1)\n",
    "        pos_entera = int(pos)\n",
    "        pos_decimal = pos - pos_entera\n",
    "        \n",
    "        if pos_entera == n - 1:\n",
    "            return datos_ordenados[-1]\n",
    "        else:\n",
    "            return (datos_ordenados[pos_entera] * (1 - pos_decimal) + \n",
    "                    datos_ordenados[pos_entera + 1] * pos_decimal)"
   ]
  },
  {
   "cell_type": "markdown",
   "id": "6c9d48e5-52e9-459d-94f7-3361e53e59d9",
   "metadata": {},
   "source": [
    "6. **cuartiles** "
   ]
  },
  {
   "cell_type": "code",
   "execution_count": 111,
   "id": "cc931d93-d913-41fc-9326-3f33de810cad",
   "metadata": {},
   "outputs": [],
   "source": [
    "def cuartiles(self):\n",
    "        \"\"\"\n",
    "        Calcula los tres cuartiles (Q1, Q2, Q3)\n",
    "        \n",
    "        Returns:\n",
    "            tuple: (Q1, Q2, Q3)\n",
    "        \"\"\"\n",
    "        return (self.percentil(25), self.percentil(50), self.percentil(75))"
   ]
  },
  {
   "cell_type": "markdown",
   "id": "212670c5-1ea2-4190-9da6-bf1076060a1e",
   "metadata": {},
   "source": [
    "## MÉTODOS DE FORMA"
   ]
  },
  {
   "cell_type": "markdown",
   "id": "eb72535e-a49e-4ed7-b987-f7c663d77c30",
   "metadata": {},
   "source": [
    "7. **coeficiente_variacion**"
   ]
  },
  {
   "cell_type": "code",
   "execution_count": 112,
   "id": "e1d9d200-ab44-41c9-b9a0-379fdccf7f3b",
   "metadata": {},
   "outputs": [],
   "source": [
    "def coeficiente_variacion(self):\n",
    "        \"\"\"\n",
    "        Calcula el coeficiente de variación\n",
    "        \n",
    "        Returns:\n",
    "            float: Coeficiente de variación en porcentaje\n",
    "        \"\"\"\n",
    "        media_val = self.media()\n",
    "        desv_estandar = self.desviacion_estandar()\n",
    "        \n",
    "        if media_val is None or desv_estandar is None or media_val == 0:\n",
    "            return None\n",
    "        \n",
    "        return (desv_estandar / media_val) * 100"
   ]
  },
  {
   "cell_type": "markdown",
   "id": "93f776d1-95f3-4510-b4dc-fc3a747faae7",
   "metadata": {},
   "source": [
    "## MÉTODOS HEREDADOS DE LA CLASE BASE"
   ]
  },
  {
   "cell_type": "code",
   "execution_count": 121,
   "id": "df88f4f5-0e78-4929-bd17-474d337b1dce",
   "metadata": {},
   "outputs": [
    {
     "name": "stdout",
     "output_type": "stream",
     "text": [
      "Clase EstadisticaCuantitativa completada\n"
     ]
    }
   ],
   "source": [
    "    def minimo(self):\n",
    "        return min(self.datos) if self.datos else None\n",
    "    \n",
    "    def maximo(self):\n",
    "        return max(self.datos) if self.datos else None\n",
    "    \n",
    "    def promedio(self):\n",
    "        return self.media()\n",
    "    \n",
    "    def cantidad_datos(self):\n",
    "        return len(self.datos)\n",
    "    \n",
    "    def tipo_datos(self):\n",
    "        return \"Cuantitativos\"\n",
    "    \n",
    "    def resumen(self):\n",
    "        print(\"=\" * 50)\n",
    "        print(\"     RESUMEN ESTADÍSTICAS CUANTITATIVAS\")\n",
    "        print(\"=\" * 50)\n",
    "        if not self.datos:\n",
    "            print(\"No hay datos para analizar.\")\n",
    "            return\n",
    "        print(f\"Cantidad de datos: {self.cantidad_datos()}\")\n",
    "        print(f\"Mínimo: {self.minimo():.2f}\")\n",
    "        print(f\"Máximo: {self.maximo():.2f}\")\n",
    "        print(f\"Rango: {self.rango():.2f}\")\n",
    "        print()\n",
    "        print(\"--- TENDENCIA CENTRAL ---\")\n",
    "        print(f\"Media: {self.media():.2f}\")\n",
    "        print(f\"Mediana: {self.mediana():.2f}\")\n",
    "        modas = self.moda()\n",
    "        print(f\"Moda: {modas if modas else 'No hay moda'}\")\n",
    "        print()\n",
    "        print(\"--- DISPERSIÓN ---\")\n",
    "        print(f\"Varianza: {self.varianza():.2f}\")\n",
    "        print(f\"Desviación estándar: {self.desviacion_estandar():.2f}\")\n",
    "        print(f\"Coef. variación: {self.coeficiente_variacion():.2f}%\")\n",
    "        print()\n",
    "        print(\"--- CUARTILES ---\")\n",
    "        q1, q2, q3 = self.cuartiles()\n",
    "        print(f\"Q1 (25%): {q1:.2f}\")\n",
    "        print(f\"Q2 (50%): {q2:.2f}\") \n",
    "        print(f\"Q3 (75%): {q3:.2f}\")\n",
    "        print(f\"IQR: {self.rango_intercuartilico():.2f}\")\n",
    "        print(\"=\" * 50)\n",
    "\n",
    "print(\"Clase EstadisticaCuantitativa completada\")"
   ]
  },
  {
   "cell_type": "markdown",
   "id": "ac08f722-fc70-4a11-afc8-077e21c70a85",
   "metadata": {},
   "source": [
    "**Para poder generar las pruebas se unió todo el código porque cuando divides en celdas separadas, Jupyter ejecuta cada celda de forma independiente. Si en una celda defines una clase y en otra intentas agregarle métodos, Python no los reconoce como parte de la misma clase. :^**"
   ]
  },
  {
   "cell_type": "markdown",
   "id": "0ab5747a-7579-4252-9462-9ecbd8f7d52a",
   "metadata": {},
   "source": [
    "## Pruebas"
   ]
  },
  {
   "cell_type": "code",
   "execution_count": 123,
   "id": "035858f3-0211-4617-aa2e-6cea73b70609",
   "metadata": {},
   "outputs": [
    {
     "name": "stdout",
     "output_type": "stream",
     "text": [
      "CLASE CUANTITATIVA\n",
      "\n",
      "Probando la clase 🦅:\n",
      "Instancia creada exitosamente uu\n",
      "==================================================\n",
      "     RESUMEN ESTADÍSTICAS CUANTITATIVAS\n",
      "==================================================\n",
      "Cantidad: 13\n",
      "Mínimo: 12.00\n",
      "Máximo: 90.00\n",
      "Rango: 78.00\n",
      "\n",
      "--- TENDENCIA CENTRAL ---\n",
      "Media: 51.85\n",
      "Mediana: 45.00\n",
      "Moda: [45]\n",
      "\n",
      "--- DISPERSIÓN ---\n",
      "Varianza: 592.90\n",
      "Desviación: 24.35\n",
      "Coef. variación: 46.96%\n",
      "\n",
      "--- CUARTILES ---\n",
      "Q1: 34.00, Q2: 45.00, Q3: 67.00\n",
      "IQR: 33.00\n",
      "==================================================\n"
     ]
    }
   ],
   "source": [
    "from abc import ABC, abstractmethod\n",
    "import math\n",
    "\n",
    "# --- CLASE BASE ---\n",
    "class EstadisticaBase(ABC):\n",
    "    def __init__(self, datos):\n",
    "        if not isinstance(datos, (list, tuple)):\n",
    "            raise TypeError(\"Los datos deben estar en una lista o tupla.\")\n",
    "        self.datos = list(datos)\n",
    "    \n",
    "    @abstractmethod\n",
    "    def promedio(self): pass\n",
    "    @abstractmethod\n",
    "    def minimo(self): pass\n",
    "    @abstractmethod\n",
    "    def maximo(self): pass\n",
    "    @abstractmethod\n",
    "    def resumen(self): pass\n",
    "    def cantidad_datos(self): return len(self.datos)\n",
    "    def tipo_datos(self): return self.__class__.__name__\n",
    "\n",
    "# --- CLASE CUANTITATIVA COMPLETA ---\n",
    "class EstadisticaCuantitativa(EstadisticaBase):\n",
    "    def __init__(self, datos):\n",
    "        if not isinstance(datos, (list, tuple)):\n",
    "            raise TypeError(\"Los datos deben estar en una lista o tupla.\")\n",
    "        for dato in datos:\n",
    "            if not isinstance(dato, (int, float)):\n",
    "                raise TypeError(f\"Todos los datos deben ser numéricos. Encontrado: {type(dato)}\")\n",
    "        self.datos = list(datos)\n",
    "        self._datos_ordenados = None\n",
    "    \n",
    "    def _ordenar_datos(self):\n",
    "        if self._datos_ordenados is None:\n",
    "            self._datos_ordenados = sorted(self.datos)\n",
    "        return self._datos_ordenados\n",
    "    \n",
    "    def media(self):\n",
    "        if not self.datos: return None\n",
    "        return sum(self.datos) / len(self.datos)\n",
    "    \n",
    "    def mediana(self):\n",
    "        if not self.datos: return None\n",
    "        datos_ordenados = self._ordenar_datos()\n",
    "        n = len(datos_ordenados)\n",
    "        if n % 2 == 1: return datos_ordenados[n // 2]\n",
    "        else: return (datos_ordenados[n // 2 - 1] + datos_ordenados[n // 2]) / 2\n",
    "    \n",
    "    def moda(self):\n",
    "        if not self.datos: return []\n",
    "        frecuencias = {}\n",
    "        for dato in self.datos:\n",
    "            frecuencias[dato] = frecuencias.get(dato, 0) + 1\n",
    "        max_freq = max(frecuencias.values())\n",
    "        return [k for k, v in frecuencias.items() if v == max_freq]\n",
    "    \n",
    "    def varianza(self, poblacional=True):\n",
    "        if len(self.datos) < 2: return None\n",
    "        media_val = self.media()\n",
    "        n = len(self.datos)\n",
    "        divisor = n if poblacional else n - 1\n",
    "        return sum((x - media_val) ** 2 for x in self.datos) / divisor\n",
    "    \n",
    "    def desviacion_estandar(self, poblacional=True):\n",
    "        varianza_val = self.varianza(poblacional)\n",
    "        return math.sqrt(varianza_val) if varianza_val is not None else None\n",
    "    \n",
    "    def rango(self):\n",
    "        if not self.datos: return None\n",
    "        return self.maximo() - self.minimo()\n",
    "    \n",
    "    def rango_intercuartilico(self):\n",
    "        q1, q3 = self.percentil(25), self.percentil(75)\n",
    "        return q3 - q1 if q1 and q3 else None\n",
    "    \n",
    "    def percentil(self, percentil):\n",
    "        if not self.datos: return None\n",
    "        if percentil < 0 or percentil > 100:\n",
    "            raise ValueError(\"El percentil debe estar entre 0 y 100\")\n",
    "        datos_ordenados = self._ordenar_datos()\n",
    "        n = len(datos_ordenados)\n",
    "        pos = (percentil / 100) * (n - 1)\n",
    "        pos_entera = int(pos)\n",
    "        pos_decimal = pos - pos_entera\n",
    "        if pos_entera == n - 1: return datos_ordenados[-1]\n",
    "        else: return (datos_ordenados[pos_entera] * (1 - pos_decimal) + datos_ordenados[pos_entera + 1] * pos_decimal)\n",
    "    \n",
    "    def cuartiles(self):\n",
    "        return (self.percentil(25), self.percentil(50), self.percentil(75))\n",
    "    \n",
    "    def coeficiente_variacion(self):\n",
    "        media_val, desv_estandar = self.media(), self.desviacion_estandar()\n",
    "        if not media_val or not desv_estandar or media_val == 0: return None\n",
    "        return (desv_estandar / media_val) * 100\n",
    "    \n",
    "    # --- MÉTODOS OBLIGATORIOS ---\n",
    "    def minimo(self): return min(self.datos) if self.datos else None\n",
    "    def maximo(self): return max(self.datos) if self.datos else None\n",
    "    def promedio(self): return self.media()\n",
    "    def resumen(self):\n",
    "        print(\"=\" * 50)\n",
    "        print(\"     RESUMEN ESTADÍSTICAS CUANTITATIVAS\")\n",
    "        print(\"=\" * 50)\n",
    "        if not self.datos:\n",
    "            print(\"No hay datos para analizar.\")\n",
    "            return\n",
    "        print(f\"Cantidad: {self.cantidad_datos()}\")\n",
    "        print(f\"Mínimo: {self.minimo():.2f}\")\n",
    "        print(f\"Máximo: {self.maximo():.2f}\")\n",
    "        print(f\"Rango: {self.rango():.2f}\")\n",
    "        print(\"\\n--- TENDENCIA CENTRAL ---\")\n",
    "        print(f\"Media: {self.media():.2f}\")\n",
    "        print(f\"Mediana: {self.mediana():.2f}\")\n",
    "        print(f\"Moda: {self.moda()}\")\n",
    "        print(\"\\n--- DISPERSIÓN ---\")\n",
    "        print(f\"Varianza: {self.varianza():.2f}\")\n",
    "        print(f\"Desviación: {self.desviacion_estandar():.2f}\")\n",
    "        print(f\"Coef. variación: {self.coeficiente_variacion():.2f}%\")\n",
    "        print(\"\\n--- CUARTILES ---\")\n",
    "        q1, q2, q3 = self.cuartiles()\n",
    "        print(f\"Q1: {q1:.2f}, Q2: {q2:.2f}, Q3: {q3:.2f}\")\n",
    "        print(f\"IQR: {self.rango_intercuartilico():.2f}\")\n",
    "        print(\"=\" * 50)\n",
    "\n",
    "print(\"CLASE CUANTITATIVA\")\n",
    "\n",
    "# --- PRUEBA INMEDIATA ---\n",
    "print(\"\\nProbando la clase 🦅:\")\n",
    "datos = [23, 45, 67, 12, 89, 45, 23, 67, 45, 78, 90, 34, 56]\n",
    "estadistica = EstadisticaCuantitativa(datos)\n",
    "print(\"Creado exitosamente uu\")\n",
    "estadistica.resumen()"
   ]
  },
  {
   "cell_type": "code",
   "execution_count": null,
   "id": "821ec9ae-8b74-49e6-9210-0f6506074429",
   "metadata": {},
   "outputs": [],
   "source": []
  }
 ],
 "metadata": {
  "kernelspec": {
   "display_name": "Python [conda env:base] *",
   "language": "python",
   "name": "conda-base-py"
  },
  "language_info": {
   "codemirror_mode": {
    "name": "ipython",
    "version": 3
   },
   "file_extension": ".py",
   "mimetype": "text/x-python",
   "name": "python",
   "nbconvert_exporter": "python",
   "pygments_lexer": "ipython3",
   "version": "3.13.5"
  }
 },
 "nbformat": 4,
 "nbformat_minor": 5
}
