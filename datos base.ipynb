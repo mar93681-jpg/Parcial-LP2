{
 "cells": [
  {
   "cell_type": "markdown",
   "id": "fc42ef65-241e-4672-b5c3-c995b7bf19e9",
   "metadata": {},
   "source": [
    "# Módulo: datos_base\n",
    "\n",
    "Descripción: Contiene la clase principal 'Datos' que maneja operaciones\n",
    "básicas para el análisis de conjuntos de datos."
   ]
  },
  {
   "cell_type": "code",
   "execution_count": 1,
   "id": "51e38111-9f6f-45b3-985d-8bd8f306d38a",
   "metadata": {},
   "outputs": [],
   "source": [
    "# datos_base.py\n",
    "\n",
    "class EstadisticaBase:\n",
    "    def __init__(self, datos):\n",
    "        # Validar que los datos sean una lista o tupla numérica\n",
    "        if not isinstance(datos, (list, tuple)):\n",
    "            raise TypeError(\"Los datos deben estar en una lista o tupla.\")\n",
    "        if not all(isinstance(x, (int, float)) for x in datos):\n",
    "            raise ValueError(\"Todos los elementos deben ser números.\")\n",
    "        \n",
    "        self.datos = datos\n",
    "\n",
    "    def cantidad_datos(self):\n",
    "        \"\"\"Devuelve la cantidad total de datos\"\"\"\n",
    "        return len(self.datos)\n",
    "\n",
    "    def minimo(self):\n",
    "        \"\"\"Devuelve el valor mínimo del conjunto de datos\"\"\"\n",
    "        return min(self.datos)\n",
    "\n",
    "    def maximo(self):\n",
    "        \"\"\"Devuelve el valor máximo del conjunto de datos\"\"\"\n",
    "        return max(self.datos)\n",
    "\n",
    "    def promedio(self):\n",
    "        \"\"\"Calcula el promedio de los datos\"\"\"\n",
    "        return sum(self.datos) / len(self.datos) if self.datos else 0\n",
    "\n",
    "    def resumen(self):\n",
    "        \"\"\"Muestra un resumen general de los datos\"\"\"\n",
    "        print(\"----- RESUMEN DE DATOS -----\")\n",
    "        print(f\"Cantidad de datos: {self.cantidad_datos()}\")\n",
    "        print(f\"Valor mínimo: {self.minimo()}\")\n",
    "        print(f\"Valor máximo: {self.maximo()}\")\n",
    "        print(f\"Promedio: {self.promedio():.2f}\")\n",
    "        print(\"----------------------------\")\n",
    "\n",
    "\n"
   ]
  },
  {
   "cell_type": "code",
   "execution_count": 2,
   "id": "1fec186a-7ecd-4c6a-9c6f-0690c2633d1c",
   "metadata": {},
   "outputs": [
    {
     "name": "stdout",
     "output_type": "stream",
     "text": [
      "----- RESUMEN DE DATOS -----\n",
      "Cantidad de datos: 5\n",
      "Valor mínimo: 10\n",
      "Valor máximo: 50\n",
      "Promedio: 30.00\n",
      "----------------------------\n"
     ]
    }
   ],
   "source": [
    "# Ejemplo de uso\n",
    "if __name__ == \"__main__\":\n",
    "    datos = [10, 20, 30, 40, 50]\n",
    "    estadistica = EstadisticaBase(datos)\n",
    "    estadistica.resumen()\n"
   ]
  },
  {
   "cell_type": "markdown",
   "id": "07298a3a-3301-498f-98a4-3b80e00760a2",
   "metadata": {},
   "source": [
    "\n",
    "## 👥 Integrantes del equipo\n",
    "- Hilary Penelope, Cruz Cruz  \n",
    "- Maria Fernanda, Chávez Mendoza  \n",
    "- Jean Franco, Malvacedo Quiñonez\n",
    "- Piero Cesar, Mejia Auccapoma\n",
    "\n",
    "## ⚙️ Cómo ejecutar el programa\n",
    "1. Abre una terminal en la carpeta del proyecto.\n",
    "2. Ejecuta el siguiente comando:\n",
    "\n",
    "   ```bash\n",
    "   python datos_base.py\n"
   ]
  }
 ],
 "metadata": {
  "kernelspec": {
   "display_name": "Python 3 (ipykernel)",
   "language": "python",
   "name": "python3"
  },
  "language_info": {
   "codemirror_mode": {
    "name": "ipython",
    "version": 3
   },
   "file_extension": ".py",
   "mimetype": "text/x-python",
   "name": "python",
   "nbconvert_exporter": "python",
   "pygments_lexer": "ipython3",
   "version": "3.13.3"
  }
 },
 "nbformat": 4,
 "nbformat_minor": 5
}


